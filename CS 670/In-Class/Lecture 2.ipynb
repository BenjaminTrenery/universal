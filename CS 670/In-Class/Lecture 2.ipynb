{
 "cells": [
  {
   "cell_type": "code",
   "execution_count": 4,
   "metadata": {},
   "outputs": [],
   "source": [
    "import nltk"
   ]
  },
  {
   "cell_type": "code",
   "execution_count": 5,
   "metadata": {},
   "outputs": [],
   "source": [
    "from nltk.corpus import gutenberg"
   ]
  },
  {
   "cell_type": "code",
   "execution_count": 6,
   "metadata": {},
   "outputs": [
    {
     "name": "stdout",
     "output_type": "stream",
     "text": [
      "Help on method words in module nltk.corpus.reader.plaintext:\n",
      "\n",
      "words(fileids=None) method of nltk.corpus.reader.plaintext.PlaintextCorpusReader instance\n",
      "    :return: the given file(s) as a list of words\n",
      "        and punctuation symbols.\n",
      "    :rtype: list(str)\n",
      "\n"
     ]
    }
   ],
   "source": [
    "help(gutenberg.words)"
   ]
  },
  {
   "cell_type": "code",
   "execution_count": 7,
   "metadata": {},
   "outputs": [],
   "source": [
    "emma = gutenberg.words(\"austen-emma.txt\")"
   ]
  },
  {
   "cell_type": "code",
   "execution_count": 8,
   "metadata": {},
   "outputs": [
    {
     "data": {
      "text/plain": [
       "192427"
      ]
     },
     "execution_count": 8,
     "metadata": {},
     "output_type": "execute_result"
    }
   ],
   "source": [
    "len(emma)"
   ]
  },
  {
   "cell_type": "code",
   "execution_count": 9,
   "metadata": {},
   "outputs": [
    {
     "data": {
      "text/plain": [
       "'[Emma by Jane Austen 1816]\\n\\nVOLUME I\\n\\nCHAPTER I\\n\\n\\nEmma Woodhouse, handsome, clever, and rich, with a comfortable home\\nand happy disposition, seemed to unite some of the best blessings\\nof existence; an'"
      ]
     },
     "execution_count": 9,
     "metadata": {},
     "output_type": "execute_result"
    }
   ],
   "source": [
    "gutenberg.raw(\"austen-emma.txt\")[:200]"
   ]
  },
  {
   "cell_type": "code",
   "execution_count": 10,
   "metadata": {},
   "outputs": [
    {
     "data": {
      "text/plain": [
       "[['[', 'Emma', 'by', 'Jane', 'Austen', '1816', ']'],\n",
       " ['VOLUME', 'I'],\n",
       " ['CHAPTER', 'I'],\n",
       " ['Emma',\n",
       "  'Woodhouse',\n",
       "  ',',\n",
       "  'handsome',\n",
       "  ',',\n",
       "  'clever',\n",
       "  ',',\n",
       "  'and',\n",
       "  'rich',\n",
       "  ',',\n",
       "  'with',\n",
       "  'a',\n",
       "  'comfortable',\n",
       "  'home',\n",
       "  'and',\n",
       "  'happy',\n",
       "  'disposition',\n",
       "  ',',\n",
       "  'seemed',\n",
       "  'to',\n",
       "  'unite',\n",
       "  'some',\n",
       "  'of',\n",
       "  'the',\n",
       "  'best',\n",
       "  'blessings',\n",
       "  'of',\n",
       "  'existence',\n",
       "  ';',\n",
       "  'and',\n",
       "  'had',\n",
       "  'lived',\n",
       "  'nearly',\n",
       "  'twenty',\n",
       "  '-',\n",
       "  'one',\n",
       "  'years',\n",
       "  'in',\n",
       "  'the',\n",
       "  'world',\n",
       "  'with',\n",
       "  'very',\n",
       "  'little',\n",
       "  'to',\n",
       "  'distress',\n",
       "  'or',\n",
       "  'vex',\n",
       "  'her',\n",
       "  '.'],\n",
       " ['She',\n",
       "  'was',\n",
       "  'the',\n",
       "  'youngest',\n",
       "  'of',\n",
       "  'the',\n",
       "  'two',\n",
       "  'daughters',\n",
       "  'of',\n",
       "  'a',\n",
       "  'most',\n",
       "  'affectionate',\n",
       "  ',',\n",
       "  'indulgent',\n",
       "  'father',\n",
       "  ';',\n",
       "  'and',\n",
       "  'had',\n",
       "  ',',\n",
       "  'in',\n",
       "  'consequence',\n",
       "  'of',\n",
       "  'her',\n",
       "  'sister',\n",
       "  \"'\",\n",
       "  's',\n",
       "  'marriage',\n",
       "  ',',\n",
       "  'been',\n",
       "  'mistress',\n",
       "  'of',\n",
       "  'his',\n",
       "  'house',\n",
       "  'from',\n",
       "  'a',\n",
       "  'very',\n",
       "  'early',\n",
       "  'period',\n",
       "  '.']]"
      ]
     },
     "execution_count": 10,
     "metadata": {},
     "output_type": "execute_result"
    }
   ],
   "source": [
    "gutenberg.sents(\"austen-emma.txt\")[:5]"
   ]
  },
  {
   "cell_type": "code",
   "execution_count": 11,
   "metadata": {},
   "outputs": [
    {
     "data": {
      "text/plain": [
       "nltk.text.Text"
      ]
     },
     "execution_count": 11,
     "metadata": {},
     "output_type": "execute_result"
    }
   ],
   "source": [
    "type(nltk.Text(emma))"
   ]
  },
  {
   "cell_type": "code",
   "execution_count": 12,
   "metadata": {},
   "outputs": [
    {
     "name": "stdout",
     "output_type": "stream",
     "text": [
      "Displaying 25 of 37 matches:\n",
      "er father , was sometimes taken by surprize at his being still able to pity ` \n",
      "hem do the other any good .\" \" You surprize me ! Emma must do Harriet good : a\n",
      "Knightley actually looked red with surprize and displeasure , as he stood up ,\n",
      "r . Elton , and found to his great surprize , that Mr . Elton was actually on \n",
      "d aid .\" Emma saw Mrs . Weston ' s surprize , and felt that it must be great ,\n",
      "father was quite taken up with the surprize of so sudden a journey , and his f\n",
      "y , in all the favouring warmth of surprize and conjecture . She was , moreove\n",
      "he appeared , to have her share of surprize , introduction , and pleasure . Th\n",
      "ir plans ; and it was an agreeable surprize to her , therefore , to perceive t\n",
      "talking aunt had taken me quite by surprize , it must have been the death of m\n",
      "f all the dialogue which ensued of surprize , and inquiry , and congratulation\n",
      " the present . They might chuse to surprize her .\" Mrs . Cole had many to agre\n",
      "the mode of it , the mystery , the surprize , is more like a young woman ' s s\n",
      " to her song took her agreeably by surprize -- a second , slightly but correct\n",
      "\" \" Oh ! no -- there is nothing to surprize one at all .-- A pretty fortune ; \n",
      "t to be considered . Emma ' s only surprize was that Jane Fairfax should accep\n",
      "of your admiration may take you by surprize some day or other .\" Mr . Knightle\n",
      "ation for her will ever take me by surprize .-- I never had a thought of her i\n",
      " expected by the best judges , for surprize -- but there was great joy . Mr . \n",
      " sound of at first , without great surprize . \" So unreasonably early !\" she w\n",
      "d Frank Churchill , with a look of surprize and displeasure .-- \" That is easy\n",
      "; and Emma could imagine with what surprize and mortification she must be retu\n",
      "tled that Jane should go . Quite a surprize to me ! I had not the least idea !\n",
      " . It is impossible to express our surprize . He came to speak to his father o\n",
      "g engaged !\" Emma even jumped with surprize ;-- and , horror - struck , exclai\n"
     ]
    }
   ],
   "source": [
    "nltk.Text(emma).concordance(\"surprize\")"
   ]
  },
  {
   "cell_type": "code",
   "execution_count": 13,
   "metadata": {},
   "outputs": [
    {
     "name": "stdout",
     "output_type": "stream",
     "text": [
      "Help on class Text in module nltk.text:\n",
      "\n",
      "class Text(builtins.object)\n",
      " |  Text(tokens, name=None)\n",
      " |  \n",
      " |  A wrapper around a sequence of simple (string) tokens, which is\n",
      " |  intended to support initial exploration of texts (via the\n",
      " |  interactive console).  Its methods perform a variety of analyses\n",
      " |  on the text's contexts (e.g., counting, concordancing, collocation\n",
      " |  discovery), and display the results.  If you wish to write a\n",
      " |  program which makes use of these analyses, then you should bypass\n",
      " |  the ``Text`` class, and use the appropriate analysis function or\n",
      " |  class directly instead.\n",
      " |  \n",
      " |  A ``Text`` is typically initialized from a given document or\n",
      " |  corpus.  E.g.:\n",
      " |  \n",
      " |  >>> import nltk.corpus\n",
      " |  >>> from nltk.text import Text\n",
      " |  >>> moby = Text(nltk.corpus.gutenberg.words('melville-moby_dick.txt'))\n",
      " |  \n",
      " |  Methods defined here:\n",
      " |  \n",
      " |  __getitem__(self, i)\n",
      " |  \n",
      " |  __init__(self, tokens, name=None)\n",
      " |      Create a Text object.\n",
      " |      \n",
      " |      :param tokens: The source text.\n",
      " |      :type tokens: sequence of str\n",
      " |  \n",
      " |  __len__(self)\n",
      " |  \n",
      " |  __repr__(self)\n",
      " |      Return repr(self).\n",
      " |  \n",
      " |  __str__(self)\n",
      " |      Return str(self).\n",
      " |  \n",
      " |  collocation_list(self, num=20, window_size=2)\n",
      " |      Return collocations derived from the text, ignoring stopwords.\n",
      " |      \n",
      " |          >>> from nltk.book import text4\n",
      " |          >>> text4.collocation_list()[:2]\n",
      " |          [('United', 'States'), ('fellow', 'citizens')]\n",
      " |      \n",
      " |      :param num: The maximum number of collocations to return.\n",
      " |      :type num: int\n",
      " |      :param window_size: The number of tokens spanned by a collocation (default=2)\n",
      " |      :type window_size: int\n",
      " |      :rtype: list(tuple(str, str))\n",
      " |  \n",
      " |  collocations(self, num=20, window_size=2)\n",
      " |      Print collocations derived from the text, ignoring stopwords.\n",
      " |      \n",
      " |          >>> from nltk.book import text4\n",
      " |          >>> text4.collocations() # doctest: +NORMALIZE_WHITESPACE\n",
      " |          United States; fellow citizens; years ago; four years; Federal\n",
      " |          Government; General Government; American people; Vice President; God\n",
      " |          bless; Chief Justice; one another; fellow Americans; Old World;\n",
      " |          Almighty God; Fellow citizens; Chief Magistrate; every citizen; Indian\n",
      " |          tribes; public debt; foreign nations\n",
      " |      \n",
      " |      \n",
      " |      :param num: The maximum number of collocations to print.\n",
      " |      :type num: int\n",
      " |      :param window_size: The number of tokens spanned by a collocation (default=2)\n",
      " |      :type window_size: int\n",
      " |  \n",
      " |  common_contexts(self, words, num=20)\n",
      " |      Find contexts where the specified words appear; list\n",
      " |      most frequent common contexts first.\n",
      " |      \n",
      " |      :param words: The words used to seed the similarity search\n",
      " |      :type words: str\n",
      " |      :param num: The number of words to generate (default=20)\n",
      " |      :type num: int\n",
      " |      :seealso: ContextIndex.common_contexts()\n",
      " |  \n",
      " |  concordance(self, word, width=79, lines=25)\n",
      " |      Prints a concordance for ``word`` with the specified context window.\n",
      " |      Word matching is not case-sensitive.\n",
      " |      \n",
      " |      :param word: The target word or phrase (a list of strings)\n",
      " |      :type word: str or list\n",
      " |      :param width: The width of each line, in characters (default=80)\n",
      " |      :type width: int\n",
      " |      :param lines: The number of lines to display (default=25)\n",
      " |      :type lines: int\n",
      " |      \n",
      " |      :seealso: ``ConcordanceIndex``\n",
      " |  \n",
      " |  concordance_list(self, word, width=79, lines=25)\n",
      " |      Generate a concordance for ``word`` with the specified context window.\n",
      " |      Word matching is not case-sensitive.\n",
      " |      \n",
      " |      :param word: The target word or phrase (a list of strings)\n",
      " |      :type word: str or list\n",
      " |      :param width: The width of each line, in characters (default=80)\n",
      " |      :type width: int\n",
      " |      :param lines: The number of lines to display (default=25)\n",
      " |      :type lines: int\n",
      " |      \n",
      " |      :seealso: ``ConcordanceIndex``\n",
      " |  \n",
      " |  count(self, word)\n",
      " |      Count the number of times this word appears in the text.\n",
      " |  \n",
      " |  dispersion_plot(self, words)\n",
      " |      Produce a plot showing the distribution of the words through the text.\n",
      " |      Requires pylab to be installed.\n",
      " |      \n",
      " |      :param words: The words to be plotted\n",
      " |      :type words: list(str)\n",
      " |      :seealso: nltk.draw.dispersion_plot()\n",
      " |  \n",
      " |  findall(self, regexp)\n",
      " |      Find instances of the regular expression in the text.\n",
      " |      The text is a list of tokens, and a regexp pattern to match\n",
      " |      a single token must be surrounded by angle brackets.  E.g.\n",
      " |      \n",
      " |      >>> from nltk.book import text1, text5, text9\n",
      " |      >>> text5.findall(\"<.*><.*><bro>\")\n",
      " |      you rule bro; telling you bro; u twizted bro\n",
      " |      >>> text1.findall(\"<a>(<.*>)<man>\")\n",
      " |      monied; nervous; dangerous; white; white; white; pious; queer; good;\n",
      " |      mature; white; Cape; great; wise; wise; butterless; white; fiendish;\n",
      " |      pale; furious; better; certain; complete; dismasted; younger; brave;\n",
      " |      brave; brave; brave\n",
      " |      >>> text9.findall(\"<th.*>{3,}\")\n",
      " |      thread through those; the thought that; that the thing; the thing\n",
      " |      that; that that thing; through these than through; them that the;\n",
      " |      through the thick; them that they; thought that the\n",
      " |      \n",
      " |      :param regexp: A regular expression\n",
      " |      :type regexp: str\n",
      " |  \n",
      " |  generate(self, length=100, text_seed=None, random_seed=42)\n",
      " |      Print random text, generated using a trigram language model.\n",
      " |      See also `help(nltk.lm)`.\n",
      " |      \n",
      " |      :param length: The length of text to generate (default=100)\n",
      " |      :type length: int\n",
      " |      \n",
      " |      :param text_seed: Generation can be conditioned on preceding context.\n",
      " |      :type text_seed: list(str)\n",
      " |      \n",
      " |      :param random_seed: A random seed or an instance of `random.Random`. If provided,\n",
      " |          makes the random sampling part of generation reproducible. (default=42)\n",
      " |      :type random_seed: int\n",
      " |  \n",
      " |  index(self, word)\n",
      " |      Find the index of the first occurrence of the word in the text.\n",
      " |  \n",
      " |  plot(self, *args)\n",
      " |      See documentation for FreqDist.plot()\n",
      " |      :seealso: nltk.prob.FreqDist.plot()\n",
      " |  \n",
      " |  readability(self, method)\n",
      " |  \n",
      " |  similar(self, word, num=20)\n",
      " |      Distributional similarity: find other words which appear in the\n",
      " |      same contexts as the specified word; list most similar words first.\n",
      " |      \n",
      " |      :param word: The word used to seed the similarity search\n",
      " |      :type word: str\n",
      " |      :param num: The number of words to generate (default=20)\n",
      " |      :type num: int\n",
      " |      :seealso: ContextIndex.similar_words()\n",
      " |  \n",
      " |  vocab(self)\n",
      " |      :seealso: nltk.prob.FreqDist\n",
      " |  \n",
      " |  ----------------------------------------------------------------------\n",
      " |  Data descriptors defined here:\n",
      " |  \n",
      " |  __dict__\n",
      " |      dictionary for instance variables (if defined)\n",
      " |  \n",
      " |  __weakref__\n",
      " |      list of weak references to the object (if defined)\n",
      "\n"
     ]
    }
   ],
   "source": [
    "help(nltk.Text)"
   ]
  },
  {
   "cell_type": "code",
   "execution_count": 14,
   "metadata": {},
   "outputs": [
    {
     "name": "stdout",
     "output_type": "stream",
     "text": [
      "5 25 26 austen-emma.txt\n",
      "5 26 17 austen-persuasion.txt\n",
      "5 28 22 austen-sense.txt\n",
      "4 34 79 bible-kjv.txt\n",
      "5 19 5 blake-poems.txt\n",
      "4 19 14 bryant-stories.txt\n",
      "4 18 12 burgess-busterbrown.txt\n",
      "4 20 13 carroll-alice.txt\n",
      "5 20 12 chesterton-ball.txt\n",
      "5 23 11 chesterton-brown.txt\n",
      "5 18 11 chesterton-thursday.txt\n",
      "4 21 25 edgeworth-parents.txt\n",
      "5 26 15 melville-moby_dick.txt\n",
      "5 52 11 milton-paradise.txt\n",
      "4 12 9 shakespeare-caesar.txt\n",
      "4 12 8 shakespeare-hamlet.txt\n",
      "4 12 7 shakespeare-macbeth.txt\n",
      "5 36 12 whitman-leaves.txt\n"
     ]
    }
   ],
   "source": [
    "for fileid in gutenberg.fileids():\n",
    "\n",
    "  num_chars = len(gutenberg.raw(fileid))\n",
    "  num_words = len(gutenberg.words(fileid))\n",
    "  num_sents = len(gutenberg.sents(fileid))\n",
    "  num_vocab = len(set(w.lower() for w in gutenberg.words(fileid)))\n",
    "  print(round(num_chars/num_words), round(num_words/num_sents), round(num_words/num_vocab), fileid)"
   ]
  },
  {
   "cell_type": "code",
   "execution_count": 15,
   "metadata": {},
   "outputs": [],
   "source": [
    "from nltk.corpus import webtext"
   ]
  },
  {
   "cell_type": "code",
   "execution_count": 16,
   "metadata": {},
   "outputs": [
    {
     "name": "stdout",
     "output_type": "stream",
     "text": [
      "firefox.txt Cookie Manager: \"Don't allow sites that set removed cookies to se ...\n",
      "grail.txt SCENE 1: [wind] [clop clop clop] \n",
      "KING ARTHUR: Whoa there!  [clop ...\n",
      "overheard.txt White guy: So, do you have any plans for this evening?\n",
      "Asian girl ...\n",
      "pirates.txt PIRATES OF THE CARRIBEAN: DEAD MAN'S CHEST, by Ted Elliott & Terr ...\n",
      "singles.txt 25 SEXY MALE, seeks attrac older single lady, for discreet encoun ...\n",
      "wine.txt Lovely delicate, fragrant Rhone wine. Polished leather and strawb ...\n"
     ]
    }
   ],
   "source": [
    "for fileid in webtext.fileids():\n",
    "    print(fileid, webtext.raw(fileid)[:65], \"...\")"
   ]
  },
  {
   "cell_type": "code",
   "execution_count": 17,
   "metadata": {},
   "outputs": [],
   "source": [
    "from nltk.corpus import nps_chat"
   ]
  },
  {
   "cell_type": "code",
   "execution_count": 18,
   "metadata": {},
   "outputs": [
    {
     "data": {
      "text/plain": [
       "['10-19-20s_706posts.xml',\n",
       " '10-19-30s_705posts.xml',\n",
       " '10-19-40s_686posts.xml',\n",
       " '10-19-adults_706posts.xml',\n",
       " '10-24-40s_706posts.xml',\n",
       " '10-26-teens_706posts.xml',\n",
       " '11-06-adults_706posts.xml',\n",
       " '11-08-20s_705posts.xml',\n",
       " '11-08-40s_706posts.xml',\n",
       " '11-08-adults_705posts.xml',\n",
       " '11-08-teens_706posts.xml',\n",
       " '11-09-20s_706posts.xml',\n",
       " '11-09-40s_706posts.xml',\n",
       " '11-09-adults_706posts.xml',\n",
       " '11-09-teens_706posts.xml']"
      ]
     },
     "execution_count": 18,
     "metadata": {},
     "output_type": "execute_result"
    }
   ],
   "source": [
    "nps_chat.fileids()"
   ]
  },
  {
   "cell_type": "code",
   "execution_count": 20,
   "metadata": {},
   "outputs": [],
   "source": [
    "chatroom = nps_chat.posts(\"10-19-20s_706posts.xml\")"
   ]
  },
  {
   "cell_type": "code",
   "execution_count": 21,
   "metadata": {},
   "outputs": [
    {
     "data": {
      "text/plain": [
       "['U141',\n",
       " '...',\n",
       " 'get',\n",
       " 'outta',\n",
       " 'my',\n",
       " 'PM',\n",
       " 'Box',\n",
       " '..',\n",
       " 'didnt',\n",
       " 'ya',\n",
       " 'hear',\n",
       " '!!!!']"
      ]
     },
     "execution_count": 21,
     "metadata": {},
     "output_type": "execute_result"
    }
   ],
   "source": [
    "chatroom[204]"
   ]
  },
  {
   "cell_type": "code",
   "execution_count": 22,
   "metadata": {},
   "outputs": [],
   "source": [
    "from nltk.corpus import brown"
   ]
  },
  {
   "cell_type": "code",
   "execution_count": 23,
   "metadata": {},
   "outputs": [
    {
     "data": {
      "text/plain": [
       "['adventure',\n",
       " 'belles_lettres',\n",
       " 'editorial',\n",
       " 'fiction',\n",
       " 'government',\n",
       " 'hobbies',\n",
       " 'humor',\n",
       " 'learned',\n",
       " 'lore',\n",
       " 'mystery',\n",
       " 'news',\n",
       " 'religion',\n",
       " 'reviews',\n",
       " 'romance',\n",
       " 'science_fiction']"
      ]
     },
     "execution_count": 23,
     "metadata": {},
     "output_type": "execute_result"
    }
   ],
   "source": [
    "brown.categories()"
   ]
  },
  {
   "cell_type": "code",
   "execution_count": 24,
   "metadata": {},
   "outputs": [
    {
     "data": {
      "text/plain": [
       "['The', 'Fulton', 'County', 'Grand', 'Jury', 'said', ...]"
      ]
     },
     "execution_count": 24,
     "metadata": {},
     "output_type": "execute_result"
    }
   ],
   "source": [
    "brown.words(categories = \"news\")"
   ]
  },
  {
   "cell_type": "code",
   "execution_count": 29,
   "metadata": {},
   "outputs": [],
   "source": [
    "brown_ner = brown.words(categories = [\"news\", \"editorial\", \"reviews\"])"
   ]
  },
  {
   "cell_type": "code",
   "execution_count": 30,
   "metadata": {},
   "outputs": [
    {
     "data": {
      "text/plain": [
       "['The', 'Fulton', 'County', 'Grand', 'Jury', 'said', ...]"
      ]
     },
     "execution_count": 30,
     "metadata": {},
     "output_type": "execute_result"
    }
   ],
   "source": [
    "brown_ner"
   ]
  },
  {
   "cell_type": "code",
   "execution_count": 31,
   "metadata": {},
   "outputs": [],
   "source": [
    "news_text = brown.words(categories = \"news\")"
   ]
  },
  {
   "cell_type": "code",
   "execution_count": 32,
   "metadata": {},
   "outputs": [],
   "source": [
    "fdist = nltk.FreqDist(w.lower() for w in news_text)"
   ]
  },
  {
   "cell_type": "code",
   "execution_count": 33,
   "metadata": {},
   "outputs": [],
   "source": [
    "modals = [\"can\", \"could\", \"may\", \"might\", \"must\", \"will\"]"
   ]
  },
  {
   "cell_type": "code",
   "execution_count": 35,
   "metadata": {},
   "outputs": [
    {
     "name": "stdout",
     "output_type": "stream",
     "text": [
      "can: 94 could: 87 may: 93 might: 38 must: 53 will: 389 "
     ]
    }
   ],
   "source": [
    "for m in modals:\n",
    "    print(m + \":\" , fdist[m], end = \" \")"
   ]
  },
  {
   "cell_type": "code",
   "execution_count": 37,
   "metadata": {},
   "outputs": [],
   "source": [
    "genres = [\"news\", \"religion\", \"hobies\", \"science_fiction\", \"romance\", \"humor\"]"
   ]
  },
  {
   "cell_type": "code",
   "execution_count": 38,
   "metadata": {},
   "outputs": [],
   "source": [
    "modals = [\"can\", \"could\", \"may\", \"might\", \"must\", \"will\"]"
   ]
  },
  {
   "cell_type": "code",
   "execution_count": 45,
   "metadata": {},
   "outputs": [],
   "source": [
    "cfd = nltk.ConditionalFreqDist(\n",
    "    (genre, word.lower())\n",
    "    for genre in brown.categories()\n",
    "    for word in brown.words(categories = genre)\n",
    ")"
   ]
  },
  {
   "cell_type": "code",
   "execution_count": 46,
   "metadata": {},
   "outputs": [
    {
     "name": "stdout",
     "output_type": "stream",
     "text": [
      "                  can could   may might  must  will \n",
      "           news    94    87    93    38    53   389 \n",
      "       religion    84    59    79    12    54    72 \n",
      "         hobies     0     0     0     0     0     0 \n",
      "science_fiction    16    49     4    12     8    17 \n",
      "        romance    79   195    11    51    46    49 \n",
      "          humor    17    33     8     8     9    13 \n"
     ]
    }
   ],
   "source": [
    "cfd.tabulate(conditions = genres, samples = modals)"
   ]
  },
  {
   "cell_type": "code",
   "execution_count": 43,
   "metadata": {},
   "outputs": [
    {
     "data": {
      "text/plain": [
       "['As',\n",
       " 'a',\n",
       " 'result',\n",
       " ',',\n",
       " 'although',\n",
       " 'we',\n",
       " 'still',\n",
       " 'make',\n",
       " 'use',\n",
       " 'of',\n",
       " 'this',\n",
       " 'distinction',\n",
       " ',',\n",
       " 'there',\n",
       " 'is',\n",
       " 'much',\n",
       " 'confusion',\n",
       " 'as',\n",
       " 'to',\n",
       " 'the',\n",
       " 'meaning',\n",
       " 'of',\n",
       " 'the',\n",
       " 'basic',\n",
       " 'terms',\n",
       " 'employed',\n",
       " '.',\n",
       " 'Just',\n",
       " 'what',\n",
       " 'is',\n",
       " 'meant',\n",
       " 'by',\n",
       " '``',\n",
       " 'spirit',\n",
       " \"''\",\n",
       " 'and',\n",
       " 'by',\n",
       " '``',\n",
       " 'matter',\n",
       " \"''\",\n",
       " '?',\n",
       " '?',\n",
       " 'The',\n",
       " 'terms',\n",
       " 'are',\n",
       " 'generally',\n",
       " 'taken',\n",
       " 'for',\n",
       " 'granted',\n",
       " 'as',\n",
       " 'though',\n",
       " 'they',\n",
       " 'referred',\n",
       " 'to',\n",
       " 'direct',\n",
       " 'and',\n",
       " 'axiomatic',\n",
       " 'elements',\n",
       " 'in',\n",
       " 'the',\n",
       " 'common',\n",
       " 'experience',\n",
       " 'of',\n",
       " 'all',\n",
       " '.',\n",
       " 'Yet',\n",
       " 'in',\n",
       " 'the',\n",
       " 'contemporary',\n",
       " 'context',\n",
       " 'this',\n",
       " 'is',\n",
       " 'precisely',\n",
       " 'what',\n",
       " 'one',\n",
       " 'must',\n",
       " 'not',\n",
       " 'do',\n",
       " '.',\n",
       " 'For',\n",
       " 'in',\n",
       " 'the',\n",
       " 'modern',\n",
       " 'world',\n",
       " 'neither',\n",
       " '``',\n",
       " 'spirit',\n",
       " \"''\",\n",
       " 'nor',\n",
       " '``',\n",
       " 'matter',\n",
       " \"''\",\n",
       " 'refer',\n",
       " 'to',\n",
       " 'any',\n",
       " 'generally',\n",
       " 'agreed-upon',\n",
       " 'elements',\n",
       " 'of',\n",
       " 'experience',\n",
       " '.',\n",
       " 'We',\n",
       " 'are',\n",
       " 'in',\n",
       " 'a',\n",
       " 'transitional',\n",
       " 'stage',\n",
       " 'in',\n",
       " 'which',\n",
       " 'many',\n",
       " 'of',\n",
       " 'the',\n",
       " 'connotations',\n",
       " 'of',\n",
       " 'former',\n",
       " 'usage',\n",
       " 'have',\n",
       " 'had',\n",
       " 'to',\n",
       " 'be',\n",
       " 'revised',\n",
       " 'or',\n",
       " 'rejected',\n",
       " '.',\n",
       " 'When',\n",
       " 'the',\n",
       " 'words',\n",
       " 'are',\n",
       " 'used',\n",
       " ',',\n",
       " 'we',\n",
       " 'are',\n",
       " 'never',\n",
       " 'sure',\n",
       " 'which',\n",
       " 'of',\n",
       " 'the',\n",
       " 'traditional',\n",
       " 'meanings',\n",
       " 'the',\n",
       " 'user',\n",
       " 'may',\n",
       " 'have',\n",
       " 'in',\n",
       " 'mind',\n",
       " ',',\n",
       " 'or',\n",
       " 'to',\n",
       " 'what',\n",
       " 'extent',\n",
       " 'his',\n",
       " 'revisions',\n",
       " 'and',\n",
       " 'rejections',\n",
       " 'of',\n",
       " 'former',\n",
       " 'understandings',\n",
       " 'correspond',\n",
       " 'to',\n",
       " 'ours',\n",
       " '.',\n",
       " 'One',\n",
       " 'of',\n",
       " 'the',\n",
       " 'most',\n",
       " 'widespread',\n",
       " 'features',\n",
       " 'of',\n",
       " 'contemporary',\n",
       " 'thought',\n",
       " 'is',\n",
       " 'the',\n",
       " 'almost',\n",
       " 'universal',\n",
       " 'disbelief',\n",
       " 'in',\n",
       " 'the',\n",
       " 'reality',\n",
       " 'of',\n",
       " 'spirit',\n",
       " '.',\n",
       " 'Just',\n",
       " 'a',\n",
       " 'few',\n",
       " 'centuries',\n",
       " 'ago',\n",
       " 'the',\n",
       " 'world',\n",
       " 'of',\n",
       " 'spirits',\n",
       " 'was',\n",
       " 'as',\n",
       " 'populous',\n",
       " 'and',\n",
       " 'real',\n",
       " 'as',\n",
       " 'the',\n",
       " 'world',\n",
       " 'of',\n",
       " 'material',\n",
       " 'entities',\n",
       " '.',\n",
       " 'Not',\n",
       " 'only',\n",
       " 'in',\n",
       " 'popular',\n",
       " 'thought',\n",
       " 'but',\n",
       " 'in',\n",
       " 'that',\n",
       " 'of',\n",
       " 'the',\n",
       " 'highly',\n",
       " 'educated',\n",
       " 'as',\n",
       " 'well',\n",
       " 'was',\n",
       " 'this',\n",
       " 'true',\n",
       " '.',\n",
       " 'Demons',\n",
       " ',',\n",
       " 'fairies',\n",
       " ',',\n",
       " 'angels',\n",
       " ',',\n",
       " 'and',\n",
       " 'a',\n",
       " 'host',\n",
       " 'of',\n",
       " 'other',\n",
       " 'spiritual',\n",
       " 'beings',\n",
       " 'were',\n",
       " 'as',\n",
       " 'much',\n",
       " 'a',\n",
       " 'part',\n",
       " 'of',\n",
       " 'the',\n",
       " 'experiential',\n",
       " 'world',\n",
       " 'of',\n",
       " 'western',\n",
       " 'man',\n",
       " 'as',\n",
       " 'were',\n",
       " 'rocks',\n",
       " 'and',\n",
       " 'trees',\n",
       " 'and',\n",
       " 'stars',\n",
       " '.',\n",
       " 'In',\n",
       " 'such',\n",
       " 'a',\n",
       " 'world',\n",
       " 'the',\n",
       " 'words',\n",
       " '``',\n",
       " 'matter',\n",
       " \"''\",\n",
       " 'and',\n",
       " '``',\n",
       " 'spirit',\n",
       " \"''\",\n",
       " 'both',\n",
       " 'referred',\n",
       " 'to',\n",
       " 'directly',\n",
       " 'known',\n",
       " 'realities',\n",
       " 'in',\n",
       " 'the',\n",
       " 'common',\n",
       " 'experience',\n",
       " 'of',\n",
       " 'all',\n",
       " '.',\n",
       " 'In',\n",
       " 'it',\n",
       " 'important',\n",
       " 'elements',\n",
       " 'of',\n",
       " 'Christianity',\n",
       " 'and',\n",
       " 'of',\n",
       " 'the',\n",
       " 'Biblical',\n",
       " 'view',\n",
       " 'of',\n",
       " 'reality',\n",
       " 'in',\n",
       " 'general',\n",
       " ',',\n",
       " 'which',\n",
       " 'now',\n",
       " 'cause',\n",
       " 'us',\n",
       " 'much',\n",
       " 'difficulty',\n",
       " ',',\n",
       " 'could',\n",
       " 'be',\n",
       " 'responded',\n",
       " 'to',\n",
       " 'quite',\n",
       " 'naturally',\n",
       " 'and',\n",
       " 'spontaneously',\n",
       " '.',\n",
       " 'The',\n",
       " 'progress',\n",
       " 'of',\n",
       " 'science',\n",
       " 'over',\n",
       " 'these',\n",
       " 'last',\n",
       " 'few',\n",
       " 'centuries',\n",
       " 'and',\n",
       " 'the',\n",
       " 'gradual',\n",
       " 'replacement',\n",
       " 'of',\n",
       " 'Biblical',\n",
       " 'by',\n",
       " 'scientific',\n",
       " 'categories',\n",
       " 'of',\n",
       " 'reality',\n",
       " 'have',\n",
       " 'to',\n",
       " 'a',\n",
       " 'large',\n",
       " 'extent',\n",
       " 'emptied',\n",
       " 'the',\n",
       " 'spirit',\n",
       " 'world',\n",
       " 'of',\n",
       " 'the',\n",
       " 'entities',\n",
       " 'which',\n",
       " 'previously',\n",
       " 'populated',\n",
       " 'it',\n",
       " '.',\n",
       " 'In',\n",
       " 'carrying',\n",
       " 'out',\n",
       " 'this',\n",
       " 'program',\n",
       " 'science',\n",
       " 'has',\n",
       " 'undoubtedly',\n",
       " 'performed',\n",
       " 'a',\n",
       " 'very',\n",
       " 'considerable',\n",
       " 'service',\n",
       " 'for',\n",
       " 'which',\n",
       " 'it',\n",
       " 'can',\n",
       " 'claim',\n",
       " 'due',\n",
       " 'credit',\n",
       " '.',\n",
       " 'The',\n",
       " 'objectification',\n",
       " 'of',\n",
       " 'the',\n",
       " 'world',\n",
       " 'of',\n",
       " 'spirit',\n",
       " 'in',\n",
       " 'popular',\n",
       " 'superstition',\n",
       " 'had',\n",
       " 'certainly',\n",
       " 'gone',\n",
       " 'far',\n",
       " 'beyond',\n",
       " 'what',\n",
       " 'the',\n",
       " 'experience',\n",
       " 'of',\n",
       " 'spirit',\n",
       " 'could',\n",
       " 'justify',\n",
       " 'or',\n",
       " 'support',\n",
       " '.',\n",
       " 'Science',\n",
       " 'is',\n",
       " 'fully',\n",
       " 'competent',\n",
       " 'to',\n",
       " 'deal',\n",
       " 'with',\n",
       " 'any',\n",
       " 'element',\n",
       " 'of',\n",
       " 'experience',\n",
       " 'which',\n",
       " 'arises',\n",
       " 'from',\n",
       " 'an',\n",
       " 'object',\n",
       " 'in',\n",
       " 'space',\n",
       " 'and',\n",
       " 'time',\n",
       " '.',\n",
       " 'When',\n",
       " ',',\n",
       " 'therefore',\n",
       " ',',\n",
       " 'it',\n",
       " 'turned',\n",
       " 'its',\n",
       " 'attention',\n",
       " 'to',\n",
       " 'the',\n",
       " 'concrete',\n",
       " 'entities',\n",
       " 'with',\n",
       " 'which',\n",
       " 'popular',\n",
       " 'imagination',\n",
       " 'had',\n",
       " 'peopled',\n",
       " 'the',\n",
       " 'world',\n",
       " 'of',\n",
       " 'spirit',\n",
       " ',',\n",
       " 'these',\n",
       " 'entities',\n",
       " 'soon',\n",
       " 'lost',\n",
       " 'whatever',\n",
       " 'status',\n",
       " 'they',\n",
       " 'had',\n",
       " 'enjoyed',\n",
       " 'as',\n",
       " 'actual',\n",
       " 'elements',\n",
       " 'of',\n",
       " 'external',\n",
       " 'reality',\n",
       " '.',\n",
       " 'In',\n",
       " 'doing',\n",
       " 'so',\n",
       " 'science',\n",
       " 'has',\n",
       " 'unquestionably',\n",
       " 'cleared',\n",
       " 'up',\n",
       " 'widespread',\n",
       " 'misconceptions',\n",
       " ',',\n",
       " 'removed',\n",
       " 'extraneous',\n",
       " 'and',\n",
       " 'illusory',\n",
       " 'sources',\n",
       " 'of',\n",
       " 'fear',\n",
       " ',',\n",
       " 'and',\n",
       " 'dispelled',\n",
       " 'many',\n",
       " 'undesirable',\n",
       " 'popular',\n",
       " 'superstitions',\n",
       " '.',\n",
       " 'There',\n",
       " 'have',\n",
       " 'been',\n",
       " ',',\n",
       " 'indeed',\n",
       " ',',\n",
       " 'many',\n",
       " 'important',\n",
       " 'and',\n",
       " 'valuable',\n",
       " 'gains',\n",
       " 'from',\n",
       " 'the',\n",
       " 'development',\n",
       " 'of',\n",
       " 'our',\n",
       " 'present',\n",
       " 'scientific',\n",
       " 'view',\n",
       " 'of',\n",
       " 'the',\n",
       " 'world',\n",
       " 'for',\n",
       " 'which',\n",
       " 'we',\n",
       " 'may',\n",
       " 'be',\n",
       " 'rightly',\n",
       " 'grateful',\n",
       " '.',\n",
       " 'All',\n",
       " 'this',\n",
       " 'has',\n",
       " 'not',\n",
       " ',',\n",
       " 'however',\n",
       " ',',\n",
       " 'been',\n",
       " 'an',\n",
       " 'unmixed',\n",
       " 'blessing',\n",
       " '.',\n",
       " 'The',\n",
       " 'scientific',\n",
       " 'debunking',\n",
       " 'of',\n",
       " 'the',\n",
       " 'spirit',\n",
       " 'world',\n",
       " 'has',\n",
       " 'been',\n",
       " 'in',\n",
       " 'a',\n",
       " 'way',\n",
       " 'too',\n",
       " 'successful',\n",
       " 'and',\n",
       " 'too',\n",
       " 'thorough',\n",
       " '.',\n",
       " 'The',\n",
       " 'house',\n",
       " 'has',\n",
       " 'been',\n",
       " 'swept',\n",
       " 'so',\n",
       " 'clean',\n",
       " 'that',\n",
       " 'contemporary',\n",
       " 'man',\n",
       " 'has',\n",
       " 'been',\n",
       " 'left',\n",
       " 'with',\n",
       " 'no',\n",
       " 'means',\n",
       " ',',\n",
       " 'or',\n",
       " 'at',\n",
       " 'best',\n",
       " 'with',\n",
       " 'wholly',\n",
       " 'inadequate',\n",
       " 'means',\n",
       " ',',\n",
       " 'for',\n",
       " 'dealing',\n",
       " 'with',\n",
       " 'his',\n",
       " 'experience',\n",
       " 'of',\n",
       " 'spirit',\n",
       " '.',\n",
       " 'Although',\n",
       " 'the',\n",
       " 'particular',\n",
       " 'form',\n",
       " 'of',\n",
       " 'conceptualization',\n",
       " 'which',\n",
       " 'popular',\n",
       " 'imagination',\n",
       " 'had',\n",
       " 'made',\n",
       " 'in',\n",
       " 'response',\n",
       " 'to',\n",
       " 'the',\n",
       " 'experience',\n",
       " 'of',\n",
       " 'spirit',\n",
       " 'was',\n",
       " 'undoubtedly',\n",
       " 'defective',\n",
       " ',',\n",
       " 'the',\n",
       " 'raw',\n",
       " 'experience',\n",
       " 'itself',\n",
       " 'which',\n",
       " 'led',\n",
       " 'to',\n",
       " 'such',\n",
       " 'excesses',\n",
       " 'remains',\n",
       " 'with',\n",
       " 'us',\n",
       " 'as',\n",
       " 'vividly',\n",
       " 'as',\n",
       " 'ever',\n",
       " '.',\n",
       " 'We',\n",
       " 'simply',\n",
       " 'find',\n",
       " 'ourselves',\n",
       " 'in',\n",
       " 'the',\n",
       " 'position',\n",
       " 'of',\n",
       " 'having',\n",
       " 'no',\n",
       " 'means',\n",
       " 'for',\n",
       " 'inquiring',\n",
       " 'into',\n",
       " 'the',\n",
       " 'structure',\n",
       " 'and',\n",
       " 'meaning',\n",
       " 'of',\n",
       " 'this',\n",
       " 'range',\n",
       " 'of',\n",
       " 'our',\n",
       " 'experience',\n",
       " '.',\n",
       " 'There',\n",
       " 'is',\n",
       " 'no',\n",
       " 'framework',\n",
       " 'or',\n",
       " 'structure',\n",
       " 'of',\n",
       " 'thought',\n",
       " 'with',\n",
       " 'respect',\n",
       " 'to',\n",
       " 'which',\n",
       " 'we',\n",
       " 'can',\n",
       " 'organize',\n",
       " 'it',\n",
       " 'and',\n",
       " 'no',\n",
       " 'part',\n",
       " 'of',\n",
       " 'reality',\n",
       " ',',\n",
       " 'as',\n",
       " 'we',\n",
       " 'know',\n",
       " 'and',\n",
       " 'apprehend',\n",
       " 'it',\n",
       " ',',\n",
       " 'with',\n",
       " 'respect',\n",
       " 'to',\n",
       " 'which',\n",
       " 'we',\n",
       " 'can',\n",
       " 'refer',\n",
       " 'this',\n",
       " 'experience',\n",
       " '.',\n",
       " 'Science',\n",
       " 'has',\n",
       " 'simply',\n",
       " 'left',\n",
       " 'us',\n",
       " 'helpless',\n",
       " 'and',\n",
       " 'powerless',\n",
       " 'in',\n",
       " 'this',\n",
       " 'important',\n",
       " 'sector',\n",
       " 'of',\n",
       " 'our',\n",
       " 'lives',\n",
       " '.',\n",
       " 'The',\n",
       " 'situation',\n",
       " 'in',\n",
       " 'which',\n",
       " 'we',\n",
       " 'find',\n",
       " 'ourselves',\n",
       " 'is',\n",
       " 'brought',\n",
       " 'out',\n",
       " 'with',\n",
       " 'dramatic',\n",
       " 'force',\n",
       " 'in',\n",
       " 'Arthur',\n",
       " \"Miller's\",\n",
       " 'play',\n",
       " 'The',\n",
       " 'Crucible',\n",
       " ',',\n",
       " 'which',\n",
       " 'deals',\n",
       " 'with',\n",
       " 'the',\n",
       " 'Salem',\n",
       " 'witch',\n",
       " 'trials',\n",
       " '.',\n",
       " 'As',\n",
       " 'the',\n",
       " 'play',\n",
       " 'opens',\n",
       " 'the',\n",
       " 'audience',\n",
       " 'is',\n",
       " 'introduced',\n",
       " 'to',\n",
       " 'the',\n",
       " 'community',\n",
       " 'of',\n",
       " 'Salem',\n",
       " 'in',\n",
       " 'Puritan',\n",
       " 'America',\n",
       " 'at',\n",
       " 'the',\n",
       " 'end',\n",
       " 'of',\n",
       " 'the',\n",
       " 'eighteenth',\n",
       " 'century',\n",
       " '.',\n",
       " 'Aside',\n",
       " 'from',\n",
       " 'a',\n",
       " 'quaint',\n",
       " 'concern',\n",
       " 'with',\n",
       " 'witches',\n",
       " 'and',\n",
       " 'devils',\n",
       " 'which',\n",
       " 'provides',\n",
       " 'the',\n",
       " 'immediate',\n",
       " 'problem',\n",
       " 'in',\n",
       " 'the',\n",
       " 'opening',\n",
       " 'scene',\n",
       " ',',\n",
       " 'it',\n",
       " 'is',\n",
       " 'a',\n",
       " 'quite',\n",
       " 'normal',\n",
       " 'community',\n",
       " '.',\n",
       " 'The',\n",
       " 'conversation',\n",
       " 'of',\n",
       " 'the',\n",
       " 'characters',\n",
       " 'creates',\n",
       " 'an',\n",
       " 'atmosphere',\n",
       " 'suggesting',\n",
       " 'the',\n",
       " 'usual',\n",
       " 'mixture',\n",
       " 'of',\n",
       " 'pleasures',\n",
       " ',',\n",
       " 'foibles',\n",
       " ',',\n",
       " 'irritations',\n",
       " ',',\n",
       " 'and',\n",
       " 'concerns',\n",
       " 'which',\n",
       " 'would',\n",
       " 'characterize',\n",
       " 'the',\n",
       " 'common',\n",
       " 'life',\n",
       " 'of',\n",
       " 'a',\n",
       " 'normal',\n",
       " 'village',\n",
       " 'in',\n",
       " 'any',\n",
       " 'age',\n",
       " '.',\n",
       " 'There',\n",
       " 'is',\n",
       " 'no',\n",
       " 'occasion',\n",
       " 'to',\n",
       " 'feel',\n",
       " 'uneasy',\n",
       " 'or',\n",
       " 'disturbed',\n",
       " 'about',\n",
       " 'these',\n",
       " 'people',\n",
       " '.',\n",
       " 'Instead',\n",
       " ',',\n",
       " 'the',\n",
       " 'audience',\n",
       " 'can',\n",
       " 'sit',\n",
       " 'back',\n",
       " 'at',\n",
       " 'ease',\n",
       " 'and',\n",
       " ',',\n",
       " 'from',\n",
       " 'the',\n",
       " 'perspective',\n",
       " 'of',\n",
       " 'an',\n",
       " 'enlightened',\n",
       " 'time',\n",
       " 'which',\n",
       " 'no',\n",
       " 'longer',\n",
       " 'believes',\n",
       " 'in',\n",
       " 'such',\n",
       " 'things',\n",
       " ',',\n",
       " 'enjoy',\n",
       " 'the',\n",
       " 'dead',\n",
       " 'seriousness',\n",
       " 'with',\n",
       " 'which',\n",
       " 'the',\n",
       " 'characters',\n",
       " 'in',\n",
       " 'the',\n",
       " 'play',\n",
       " 'take',\n",
       " 'the',\n",
       " 'witches',\n",
       " 'and',\n",
       " 'devils',\n",
       " 'which',\n",
       " 'are',\n",
       " 'under',\n",
       " 'discussion',\n",
       " '.',\n",
       " 'A',\n",
       " 'teenage',\n",
       " 'girl',\n",
       " ',',\n",
       " 'Abigail',\n",
       " 'Williams',\n",
       " ',',\n",
       " 'is',\n",
       " 'being',\n",
       " 'sharply',\n",
       " 'questioned',\n",
       " 'by',\n",
       " 'her',\n",
       " 'minister',\n",
       " 'uncle',\n",
       " ',',\n",
       " 'the',\n",
       " 'Reverend',\n",
       " 'Samuel',\n",
       " 'Parris',\n",
       " ',',\n",
       " 'about',\n",
       " 'a',\n",
       " 'wild',\n",
       " 'night',\n",
       " 'affair',\n",
       " 'in',\n",
       " 'the',\n",
       " 'woods',\n",
       " 'in',\n",
       " 'which',\n",
       " 'she',\n",
       " 'and',\n",
       " 'some',\n",
       " 'other',\n",
       " 'girls',\n",
       " 'had',\n",
       " 'seemed',\n",
       " 'to',\n",
       " 'have',\n",
       " 'had',\n",
       " 'contact',\n",
       " 'with',\n",
       " 'these',\n",
       " 'evil',\n",
       " 'beings',\n",
       " '.',\n",
       " 'For',\n",
       " 'all',\n",
       " 'involved',\n",
       " 'in',\n",
       " 'this',\n",
       " 'discussion',\n",
       " 'the',\n",
       " 'devil',\n",
       " 'is',\n",
       " 'a',\n",
       " 'real',\n",
       " 'entity',\n",
       " 'who',\n",
       " 'can',\n",
       " 'really',\n",
       " 'be',\n",
       " 'confronted',\n",
       " 'in',\n",
       " 'the',\n",
       " 'woods',\n",
       " 'on',\n",
       " 'a',\n",
       " 'dark',\n",
       " 'night',\n",
       " ',',\n",
       " 'the',\n",
       " 'demon',\n",
       " 'world',\n",
       " 'is',\n",
       " 'populated',\n",
       " 'with',\n",
       " 'real',\n",
       " 'creatures',\n",
       " ',',\n",
       " 'and',\n",
       " 'witches',\n",
       " 'actually',\n",
       " 'can',\n",
       " 'be',\n",
       " 'seen',\n",
       " 'flying',\n",
       " 'through',\n",
       " 'the',\n",
       " 'air',\n",
       " '.',\n",
       " 'As',\n",
       " 'the',\n",
       " 'play',\n",
       " 'unfolds',\n",
       " ',',\n",
       " 'however',\n",
       " ',',\n",
       " 'the',\n",
       " 'audience',\n",
       " 'is',\n",
       " 'subtly',\n",
       " 'brought',\n",
       " 'into',\n",
       " 'the',\n",
       " 'grip',\n",
       " 'of',\n",
       " 'an',\n",
       " 'awful',\n",
       " 'evil',\n",
       " 'which',\n",
       " 'grows',\n",
       " 'with',\n",
       " 'ominously',\n",
       " 'gathering',\n",
       " 'power',\n",
       " 'and',\n",
       " 'soon',\n",
       " 'engulfs',\n",
       " 'the',\n",
       " 'community',\n",
       " '.',\n",
       " 'Everyone',\n",
       " 'in',\n",
       " 'Salem',\n",
       " ',',\n",
       " 'saint',\n",
       " 'and',\n",
       " 'sinner',\n",
       " 'alike',\n",
       " ',',\n",
       " 'is',\n",
       " 'swept',\n",
       " 'up',\n",
       " ...]"
      ]
     },
     "execution_count": 43,
     "metadata": {},
     "output_type": "execute_result"
    }
   ],
   "source": [
    "[w for w in brown.words(categories = \"religion\")]"
   ]
  },
  {
   "cell_type": "code",
   "execution_count": 44,
   "metadata": {},
   "outputs": [
    {
     "name": "stdout",
     "output_type": "stream",
     "text": [
      "Help on CategorizedTaggedCorpusReader in module nltk.corpus.reader.tagged object:\n",
      "\n",
      "class CategorizedTaggedCorpusReader(nltk.corpus.reader.api.CategorizedCorpusReader, TaggedCorpusReader)\n",
      " |  CategorizedTaggedCorpusReader(*args, **kwargs)\n",
      " |  \n",
      " |  A reader for part-of-speech tagged corpora whose documents are\n",
      " |  divided into categories based on their file identifiers.\n",
      " |  \n",
      " |  Method resolution order:\n",
      " |      CategorizedTaggedCorpusReader\n",
      " |      nltk.corpus.reader.api.CategorizedCorpusReader\n",
      " |      TaggedCorpusReader\n",
      " |      nltk.corpus.reader.api.CorpusReader\n",
      " |      builtins.object\n",
      " |  \n",
      " |  Methods defined here:\n",
      " |  \n",
      " |  __init__(self, *args, **kwargs)\n",
      " |      Initialize the corpus reader.  Categorization arguments\n",
      " |      (``cat_pattern``, ``cat_map``, and ``cat_file``) are passed to\n",
      " |      the ``CategorizedCorpusReader`` constructor.  The remaining arguments\n",
      " |      are passed to the ``TaggedCorpusReader``.\n",
      " |  \n",
      " |  tagged_paras(self, fileids=None, categories=None, tagset=None)\n",
      " |      :return: the given file(s) as a list of\n",
      " |          paragraphs, each encoded as a list of sentences, which are\n",
      " |          in turn encoded as lists of ``(word,tag)`` tuples.\n",
      " |      :rtype: list(list(list(tuple(str,str))))\n",
      " |  \n",
      " |  tagged_sents(self, fileids=None, categories=None, tagset=None)\n",
      " |      :return: the given file(s) as a list of\n",
      " |          sentences, each encoded as a list of ``(word,tag)`` tuples.\n",
      " |      \n",
      " |      :rtype: list(list(tuple(str,str)))\n",
      " |  \n",
      " |  tagged_words(self, fileids=None, categories=None, tagset=None)\n",
      " |      :return: the given file(s) as a list of tagged\n",
      " |          words and punctuation symbols, encoded as tuples\n",
      " |          ``(word,tag)``.\n",
      " |      :rtype: list(tuple(str,str))\n",
      " |  \n",
      " |  ----------------------------------------------------------------------\n",
      " |  Methods inherited from nltk.corpus.reader.api.CategorizedCorpusReader:\n",
      " |  \n",
      " |  categories(self, fileids=None)\n",
      " |      Return a list of the categories that are defined for this corpus,\n",
      " |      or for the file(s) if it is given.\n",
      " |  \n",
      " |  fileids(self, categories=None)\n",
      " |      Return a list of file identifiers for the files that make up\n",
      " |      this corpus, or that make up the given category(s) if specified.\n",
      " |  \n",
      " |  paras(self, fileids=None, categories=None)\n",
      " |  \n",
      " |  raw(self, fileids=None, categories=None)\n",
      " |  \n",
      " |  sents(self, fileids=None, categories=None)\n",
      " |  \n",
      " |  words(self, fileids=None, categories=None)\n",
      " |  \n",
      " |  ----------------------------------------------------------------------\n",
      " |  Data descriptors inherited from nltk.corpus.reader.api.CategorizedCorpusReader:\n",
      " |  \n",
      " |  __dict__\n",
      " |      dictionary for instance variables (if defined)\n",
      " |  \n",
      " |  __weakref__\n",
      " |      list of weak references to the object (if defined)\n",
      " |  \n",
      " |  ----------------------------------------------------------------------\n",
      " |  Methods inherited from nltk.corpus.reader.api.CorpusReader:\n",
      " |  \n",
      " |  __repr__(self)\n",
      " |      Return repr(self).\n",
      " |  \n",
      " |  abspath(self, fileid)\n",
      " |      Return the absolute path for the given file.\n",
      " |      \n",
      " |      :type fileid: str\n",
      " |      :param fileid: The file identifier for the file whose path\n",
      " |          should be returned.\n",
      " |      :rtype: PathPointer\n",
      " |  \n",
      " |  abspaths(self, fileids=None, include_encoding=False, include_fileid=False)\n",
      " |      Return a list of the absolute paths for all fileids in this corpus;\n",
      " |      or for the given list of fileids, if specified.\n",
      " |      \n",
      " |      :type fileids: None or str or list\n",
      " |      :param fileids: Specifies the set of fileids for which paths should\n",
      " |          be returned.  Can be None, for all fileids; a list of\n",
      " |          file identifiers, for a specified set of fileids; or a single\n",
      " |          file identifier, for a single file.  Note that the return\n",
      " |          value is always a list of paths, even if ``fileids`` is a\n",
      " |          single file identifier.\n",
      " |      \n",
      " |      :param include_encoding: If true, then return a list of\n",
      " |          ``(path_pointer, encoding)`` tuples.\n",
      " |      \n",
      " |      :rtype: list(PathPointer)\n",
      " |  \n",
      " |  citation(self)\n",
      " |      Return the contents of the corpus citation.bib file, if it exists.\n",
      " |  \n",
      " |  encoding(self, file)\n",
      " |      Return the unicode encoding for the given corpus file, if known.\n",
      " |      If the encoding is unknown, or if the given file should be\n",
      " |      processed using byte strings (str), then return None.\n",
      " |  \n",
      " |  ensure_loaded(self)\n",
      " |      Load this corpus (if it has not already been loaded).  This is\n",
      " |      used by LazyCorpusLoader as a simple method that can be used to\n",
      " |      make sure a corpus is loaded -- e.g., in case a user wants to\n",
      " |      do help(some_corpus).\n",
      " |  \n",
      " |  license(self)\n",
      " |      Return the contents of the corpus LICENSE file, if it exists.\n",
      " |  \n",
      " |  open(self, file)\n",
      " |      Return an open stream that can be used to read the given file.\n",
      " |      If the file's encoding is not None, then the stream will\n",
      " |      automatically decode the file's contents into unicode.\n",
      " |      \n",
      " |      :param file: The file identifier of the file to read.\n",
      " |  \n",
      " |  readme(self)\n",
      " |      Return the contents of the corpus README file, if it exists.\n",
      " |  \n",
      " |  ----------------------------------------------------------------------\n",
      " |  Readonly properties inherited from nltk.corpus.reader.api.CorpusReader:\n",
      " |  \n",
      " |  root\n",
      " |      The directory where this corpus is stored.\n",
      " |      \n",
      " |      :type: PathPointer\n",
      "\n"
     ]
    }
   ],
   "source": [
    "help(brown)"
   ]
  },
  {
   "cell_type": "code",
   "execution_count": 47,
   "metadata": {},
   "outputs": [],
   "source": [
    "from nltk.corpus import reuters"
   ]
  },
  {
   "cell_type": "code",
   "execution_count": 48,
   "metadata": {},
   "outputs": [
    {
     "data": {
      "text/plain": [
       "['test/14826',\n",
       " 'test/14828',\n",
       " 'test/14829',\n",
       " 'test/14832',\n",
       " 'test/14833',\n",
       " 'test/14839',\n",
       " 'test/14840',\n",
       " 'test/14841',\n",
       " 'test/14842',\n",
       " 'test/14843']"
      ]
     },
     "execution_count": 48,
     "metadata": {},
     "output_type": "execute_result"
    }
   ],
   "source": [
    "reuters.fileids()[:10]"
   ]
  },
  {
   "cell_type": "code",
   "execution_count": 49,
   "metadata": {},
   "outputs": [
    {
     "data": {
      "text/plain": [
       "10788"
      ]
     },
     "execution_count": 49,
     "metadata": {},
     "output_type": "execute_result"
    }
   ],
   "source": [
    "len(reuters.fileids())"
   ]
  },
  {
   "cell_type": "code",
   "execution_count": 50,
   "metadata": {},
   "outputs": [
    {
     "data": {
      "text/plain": [
       "90"
      ]
     },
     "execution_count": 50,
     "metadata": {},
     "output_type": "execute_result"
    }
   ],
   "source": [
    "len(reuters.categories())"
   ]
  },
  {
   "cell_type": "code",
   "execution_count": 51,
   "metadata": {},
   "outputs": [
    {
     "data": {
      "text/plain": [
       "['acq',\n",
       " 'alum',\n",
       " 'barley',\n",
       " 'bop',\n",
       " 'carcass',\n",
       " 'castor-oil',\n",
       " 'cocoa',\n",
       " 'coconut',\n",
       " 'coconut-oil',\n",
       " 'coffee']"
      ]
     },
     "execution_count": 51,
     "metadata": {},
     "output_type": "execute_result"
    }
   ],
   "source": [
    "reuters.categories()[:10]"
   ]
  },
  {
   "cell_type": "code",
   "execution_count": 52,
   "metadata": {},
   "outputs": [
    {
     "data": {
      "text/plain": [
       "['barley', 'corn', 'grain', 'wheat']"
      ]
     },
     "execution_count": 52,
     "metadata": {},
     "output_type": "execute_result"
    }
   ],
   "source": [
    "reuters.categories(\"training/9865\")"
   ]
  },
  {
   "cell_type": "code",
   "execution_count": 55,
   "metadata": {},
   "outputs": [
    {
     "data": {
      "text/plain": [
       "264"
      ]
     },
     "execution_count": 55,
     "metadata": {},
     "output_type": "execute_result"
    }
   ],
   "source": [
    "len(reuters.fileids([\"barley\", \"corn\"]))"
   ]
  },
  {
   "cell_type": "code",
   "execution_count": 54,
   "metadata": {},
   "outputs": [
    {
     "data": {
      "text/plain": [
       "['THAI',\n",
       " 'TRADE',\n",
       " 'DEFICIT',\n",
       " 'WIDENS',\n",
       " 'IN',\n",
       " 'FIRST',\n",
       " 'QUARTER',\n",
       " 'Thailand',\n",
       " \"'\",\n",
       " 's']"
      ]
     },
     "execution_count": 54,
     "metadata": {},
     "output_type": "execute_result"
    }
   ],
   "source": [
    "reuters.words(categories = [\"barley\", \"corn\"])[:10]"
   ]
  },
  {
   "cell_type": "code",
   "execution_count": 58,
   "metadata": {},
   "outputs": [],
   "source": [
    "from nltk.corpus import inaugural"
   ]
  },
  {
   "cell_type": "code",
   "execution_count": 61,
   "metadata": {},
   "outputs": [
    {
     "data": {
      "text/plain": [
       "['1789-Washington.txt',\n",
       " '1793-Washington.txt',\n",
       " '1797-Adams.txt',\n",
       " '1801-Jefferson.txt',\n",
       " '1805-Jefferson.txt',\n",
       " '1809-Madison.txt',\n",
       " '1813-Madison.txt',\n",
       " '1817-Monroe.txt',\n",
       " '1821-Monroe.txt',\n",
       " '1825-Adams.txt',\n",
       " '1829-Jackson.txt',\n",
       " '1833-Jackson.txt',\n",
       " '1837-VanBuren.txt',\n",
       " '1841-Harrison.txt',\n",
       " '1845-Polk.txt',\n",
       " '1849-Taylor.txt',\n",
       " '1853-Pierce.txt',\n",
       " '1857-Buchanan.txt',\n",
       " '1861-Lincoln.txt',\n",
       " '1865-Lincoln.txt',\n",
       " '1869-Grant.txt',\n",
       " '1873-Grant.txt',\n",
       " '1877-Hayes.txt',\n",
       " '1881-Garfield.txt',\n",
       " '1885-Cleveland.txt',\n",
       " '1889-Harrison.txt',\n",
       " '1893-Cleveland.txt',\n",
       " '1897-McKinley.txt',\n",
       " '1901-McKinley.txt',\n",
       " '1905-Roosevelt.txt',\n",
       " '1909-Taft.txt',\n",
       " '1913-Wilson.txt',\n",
       " '1917-Wilson.txt',\n",
       " '1921-Harding.txt',\n",
       " '1925-Coolidge.txt',\n",
       " '1929-Hoover.txt',\n",
       " '1933-Roosevelt.txt',\n",
       " '1937-Roosevelt.txt',\n",
       " '1941-Roosevelt.txt',\n",
       " '1945-Roosevelt.txt',\n",
       " '1949-Truman.txt',\n",
       " '1953-Eisenhower.txt',\n",
       " '1957-Eisenhower.txt',\n",
       " '1961-Kennedy.txt',\n",
       " '1965-Johnson.txt',\n",
       " '1969-Nixon.txt',\n",
       " '1973-Nixon.txt',\n",
       " '1977-Carter.txt',\n",
       " '1981-Reagan.txt',\n",
       " '1985-Reagan.txt',\n",
       " '1989-Bush.txt',\n",
       " '1993-Clinton.txt',\n",
       " '1997-Clinton.txt',\n",
       " '2001-Bush.txt',\n",
       " '2005-Bush.txt',\n",
       " '2009-Obama.txt',\n",
       " '2013-Obama.txt',\n",
       " '2017-Trump.txt',\n",
       " '2021-Biden.txt']"
      ]
     },
     "execution_count": 61,
     "metadata": {},
     "output_type": "execute_result"
    }
   ],
   "source": [
    "inaugural.fileids()"
   ]
  },
  {
   "cell_type": "code",
   "execution_count": 59,
   "metadata": {},
   "outputs": [
    {
     "data": {
      "text/plain": [
       "['1789',\n",
       " '1793',\n",
       " '1797',\n",
       " '1801',\n",
       " '1805',\n",
       " '1809',\n",
       " '1813',\n",
       " '1817',\n",
       " '1821',\n",
       " '1825',\n",
       " '1829',\n",
       " '1833',\n",
       " '1837',\n",
       " '1841',\n",
       " '1845',\n",
       " '1849',\n",
       " '1853',\n",
       " '1857',\n",
       " '1861',\n",
       " '1865',\n",
       " '1869',\n",
       " '1873',\n",
       " '1877',\n",
       " '1881',\n",
       " '1885',\n",
       " '1889',\n",
       " '1893',\n",
       " '1897',\n",
       " '1901',\n",
       " '1905',\n",
       " '1909',\n",
       " '1913',\n",
       " '1917',\n",
       " '1921',\n",
       " '1925',\n",
       " '1929',\n",
       " '1933',\n",
       " '1937',\n",
       " '1941',\n",
       " '1945',\n",
       " '1949',\n",
       " '1953',\n",
       " '1957',\n",
       " '1961',\n",
       " '1965',\n",
       " '1969',\n",
       " '1973',\n",
       " '1977',\n",
       " '1981',\n",
       " '1985',\n",
       " '1989',\n",
       " '1993',\n",
       " '1997',\n",
       " '2001',\n",
       " '2005',\n",
       " '2009',\n",
       " '2013',\n",
       " '2017',\n",
       " '2021']"
      ]
     },
     "execution_count": 59,
     "metadata": {},
     "output_type": "execute_result"
    }
   ],
   "source": [
    "[fileid[:4] for fileid in inaugural.fileids()]"
   ]
  },
  {
   "cell_type": "code",
   "execution_count": 62,
   "metadata": {},
   "outputs": [],
   "source": [
    "cfd = nltk.ConditionalFreqDist(\n",
    "    (target, fileid[:4])\n",
    "    for fileid in inaugural.fileids()\n",
    "    for w in inaugural.words(fileid)\n",
    "    for target in [\"america\", \"citizen\"]\n",
    "    if w.lower().startswith(target)\n",
    ")"
   ]
  },
  {
   "cell_type": "code",
   "execution_count": 63,
   "metadata": {},
   "outputs": [
    {
     "data": {
      "image/png": "[encoded data removed]",
      "text/plain": [
       "<Figure size 640x480 with 1 Axes>"
      ]
     },
     "metadata": {},
     "output_type": "display_data"
    },
    {
     "data": {
      "text/plain": [
       "<Axes: xlabel='Samples', ylabel='Counts'>"
      ]
     },
     "execution_count": 63,
     "metadata": {},
     "output_type": "execute_result"
    }
   ],
   "source": [
    "cfd.plot()"
   ]
  },
  {
   "cell_type": "code",
   "execution_count": 64,
   "metadata": {},
   "outputs": [],
   "source": [
    "import matplotlib.pyplot as plt"
   ]
  },
  {
   "cell_type": "code",
   "execution_count": 65,
   "metadata": {},
   "outputs": [
    {
     "data": {
      "image/png": "[encoded data removed]",
      "text/plain": [
       "<Figure size 1300x500 with 1 Axes>"
      ]
     },
     "metadata": {},
     "output_type": "display_data"
    },
    {
     "data": {
      "text/plain": [
       "<Axes: xlabel='Samples', ylabel='Counts'>"
      ]
     },
     "execution_count": 65,
     "metadata": {},
     "output_type": "execute_result"
    }
   ],
   "source": [
    "plt.figure(figsize= (13,5))\n",
    "cfd.plot()"
   ]
  },
  {
   "cell_type": "code",
   "execution_count": 66,
   "metadata": {},
   "outputs": [
    {
     "data": {
      "text/plain": [
       "['El', 'grupo', 'estatal', 'Electricité_de_France', ...]"
      ]
     },
     "execution_count": 66,
     "metadata": {},
     "output_type": "execute_result"
    }
   ],
   "source": [
    "nltk.corpus.cess_esp.words()"
   ]
  },
  {
   "cell_type": "code",
   "execution_count": 67,
   "metadata": {},
   "outputs": [
    {
     "data": {
      "text/plain": [
       "['Um', 'revivalismo', 'refrescante', 'O', '7_e_Meio', ...]"
      ]
     },
     "execution_count": 67,
     "metadata": {},
     "output_type": "execute_result"
    }
   ],
   "source": [
    "nltk.corpus.floresta.words()"
   ]
  },
  {
   "cell_type": "code",
   "execution_count": 71,
   "metadata": {},
   "outputs": [
    {
     "data": {
      "text/plain": [
       "['पूर्ण', 'प्रतिबंध', 'हटाओ', ':', 'इराक', 'संयुक्त', ...]"
      ]
     },
     "execution_count": 71,
     "metadata": {},
     "output_type": "execute_result"
    }
   ],
   "source": [
    "nltk.corpus.indian.words(\"hindi.pos\")"
   ]
  },
  {
   "cell_type": "code",
   "execution_count": 72,
   "metadata": {},
   "outputs": [
    {
     "data": {
      "text/plain": [
       "['Abkhaz-Cyrillic+Abkh',\n",
       " 'Abkhaz-UTF8',\n",
       " 'Achehnese-Latin1',\n",
       " 'Achuar-Shiwiar-Latin1',\n",
       " 'Adja-UTF8',\n",
       " 'Afaan_Oromo_Oromiffa-Latin1',\n",
       " 'Afrikaans-Latin1',\n",
       " 'Aguaruna-Latin1',\n",
       " 'Akuapem_Twi-UTF8',\n",
       " 'Albanian_Shqip-Latin1',\n",
       " 'Amahuaca',\n",
       " 'Amahuaca-Latin1',\n",
       " 'Amarakaeri-Latin1',\n",
       " 'Amuesha-Yanesha-UTF8',\n",
       " 'Arabela-Latin1',\n",
       " 'Arabic_Alarabia-Arabic',\n",
       " 'Asante-UTF8',\n",
       " 'Ashaninca-Latin1',\n",
       " 'Asheninca-Latin1',\n",
       " 'Asturian_Bable-Latin1',\n",
       " 'Aymara-Latin1',\n",
       " 'Balinese-Latin1',\n",
       " 'Bambara-UTF8',\n",
       " 'Baoule-UTF8',\n",
       " 'Basque_Euskara-Latin1',\n",
       " 'Batonu_Bariba-UTF8',\n",
       " 'Belorus_Belaruski-Cyrillic',\n",
       " 'Belorus_Belaruski-UTF8',\n",
       " 'Bemba-Latin1',\n",
       " 'Bengali-UTF8',\n",
       " 'Beti-UTF8',\n",
       " 'Bichelamar-Latin1',\n",
       " 'Bikol_Bicolano-Latin1',\n",
       " 'Bora-Latin1',\n",
       " 'Bosnian_Bosanski-Cyrillic',\n",
       " 'Bosnian_Bosanski-Latin2',\n",
       " 'Bosnian_Bosanski-UTF8',\n",
       " 'Breton-Latin1',\n",
       " 'Bugisnese-Latin1',\n",
       " 'Bulgarian_Balgarski-Cyrillic',\n",
       " 'Bulgarian_Balgarski-UTF8',\n",
       " 'Cakchiquel-Latin1',\n",
       " 'Campa_Pajonalino-Latin1',\n",
       " 'Candoshi-Shapra-Latin1',\n",
       " 'Caquinte-Latin1',\n",
       " 'Cashibo-Cacataibo-Latin1',\n",
       " 'Cashinahua-Latin1',\n",
       " 'Catalan-Latin1',\n",
       " 'Catalan_Catala-Latin1',\n",
       " 'Cebuano-Latin1',\n",
       " 'Chamorro-Latin1',\n",
       " 'Chayahuita-Latin1',\n",
       " 'Chechewa_Nyanja-Latin1',\n",
       " 'Chickasaw-Latin1',\n",
       " 'Chinanteco-Ajitlan-Latin1',\n",
       " 'Chinanteco-UTF8',\n",
       " 'Chinese_Mandarin-GB2312',\n",
       " 'Chuuk_Trukese-Latin1',\n",
       " 'Cokwe-Latin1',\n",
       " 'Corsican-Latin1',\n",
       " 'Croatian_Hrvatski-Latin2',\n",
       " 'Czech-Latin2',\n",
       " 'Czech-UTF8',\n",
       " 'Czech_Cesky-Latin2',\n",
       " 'Czech_Cesky-UTF8',\n",
       " 'Dagaare-UTF8',\n",
       " 'Dagbani-UTF8',\n",
       " 'Dangme-UTF8',\n",
       " 'Danish_Dansk-Latin1',\n",
       " 'Dendi-UTF8',\n",
       " 'Ditammari-UTF8',\n",
       " 'Dutch_Nederlands-Latin1',\n",
       " 'Edo-Latin1',\n",
       " 'English-Latin1',\n",
       " 'Esperanto-UTF8',\n",
       " 'Estonian_Eesti-Latin1',\n",
       " 'Ewe_Eve-UTF8',\n",
       " 'Fante-UTF8',\n",
       " 'Faroese-Latin1',\n",
       " 'Farsi_Persian-UTF8',\n",
       " 'Farsi_Persian-v2-UTF8',\n",
       " 'Fijian-Latin1',\n",
       " 'Filipino_Tagalog-Latin1',\n",
       " 'Finnish_Suomi-Latin1',\n",
       " 'Fon-UTF8',\n",
       " 'French_Francais-Latin1',\n",
       " 'Frisian-Latin1',\n",
       " 'Friulian_Friulano-Latin1',\n",
       " 'Ga-UTF8',\n",
       " 'Gagauz_Gagauzi-UTF8',\n",
       " 'Galician_Galego-Latin1',\n",
       " 'Garifuna_Garifuna-Latin1',\n",
       " 'German_Deutsch-Latin1',\n",
       " 'Gonja-UTF8',\n",
       " 'Greek_Ellinika-Greek',\n",
       " 'Greek_Ellinika-UTF8',\n",
       " 'Greenlandic_Inuktikut-Latin1',\n",
       " 'Guarani-Latin1',\n",
       " 'Guen_Mina-UTF8',\n",
       " 'HaitianCreole_Kreyol-Latin1',\n",
       " 'HaitianCreole_Popular-Latin1',\n",
       " 'Hani-Latin1',\n",
       " 'Hausa_Haoussa-Latin1',\n",
       " 'Hawaiian-UTF8',\n",
       " 'Hebrew_Ivrit-Hebrew',\n",
       " 'Hebrew_Ivrit-UTF8',\n",
       " 'Hiligaynon-Latin1',\n",
       " 'Hindi-UTF8',\n",
       " 'Hindi_web-UTF8',\n",
       " 'Hmong_Miao-Sichuan-Guizhou-Yunnan-Latin1',\n",
       " 'Hmong_Miao-SouthernEast-Guizhou-Latin1',\n",
       " 'Hmong_Miao_Northern-East-Guizhou-Latin1',\n",
       " 'Hrvatski_Croatian-Latin2',\n",
       " 'Huasteco-Latin1',\n",
       " 'Huitoto_Murui-Latin1',\n",
       " 'Hungarian_Magyar-Latin1',\n",
       " 'Hungarian_Magyar-Latin2',\n",
       " 'Hungarian_Magyar-UTF8',\n",
       " 'Ibibio_Efik-Latin1',\n",
       " 'Icelandic_Yslenska-Latin1',\n",
       " 'Ido-Latin1',\n",
       " 'Igbo-UTF8',\n",
       " 'Iloko_Ilocano-Latin1',\n",
       " 'Indonesian-Latin1',\n",
       " 'Interlingua-Latin1',\n",
       " 'Inuktikut_Greenlandic-Latin1',\n",
       " 'IrishGaelic_Gaeilge-Latin1',\n",
       " 'Italian-Latin1',\n",
       " 'Italian_Italiano-Latin1',\n",
       " 'Japanese_Nihongo-EUC',\n",
       " 'Japanese_Nihongo-SJIS',\n",
       " 'Japanese_Nihongo-UTF8',\n",
       " 'Javanese-Latin1',\n",
       " 'Jola-Fogny_Diola-UTF8',\n",
       " 'Kabye-UTF8',\n",
       " 'Kannada-UTF8',\n",
       " 'Kaonde-Latin1',\n",
       " 'Kapampangan-Latin1',\n",
       " 'Kasem-UTF8',\n",
       " 'Kazakh-Cyrillic',\n",
       " 'Kazakh-UTF8',\n",
       " 'Kiche_Quiche-Latin1',\n",
       " 'Kicongo-Latin1',\n",
       " 'Kimbundu_Mbundu-Latin1',\n",
       " 'Kinyamwezi_Nyamwezi-Latin1',\n",
       " 'Kinyarwanda-Latin1',\n",
       " 'Kituba-Latin1',\n",
       " 'Korean_Hankuko-UTF8',\n",
       " 'Kpelewo-UTF8',\n",
       " 'Krio-UTF8',\n",
       " 'Kurdish-UTF8',\n",
       " 'Lamnso_Lam-nso-UTF8',\n",
       " 'Latin_Latina-Latin1',\n",
       " 'Latin_Latina-v2-Latin1',\n",
       " 'Latvian-Latin1',\n",
       " 'Limba-UTF8',\n",
       " 'Lingala-Latin1',\n",
       " 'Lithuanian_Lietuviskai-Baltic',\n",
       " 'Lozi-Latin1',\n",
       " 'Luba-Kasai_Tshiluba-Latin1',\n",
       " 'Luganda_Ganda-Latin1',\n",
       " 'Lunda_Chokwe-lunda-Latin1',\n",
       " 'Luvale-Latin1',\n",
       " 'Luxembourgish_Letzebuergeusch-Latin1',\n",
       " 'Macedonian-UTF8',\n",
       " 'Madurese-Latin1',\n",
       " 'Makonde-Latin1',\n",
       " 'Malagasy-Latin1',\n",
       " 'Malay_BahasaMelayu-Latin1',\n",
       " 'Maltese-UTF8',\n",
       " 'Mam-Latin1',\n",
       " 'Maninka-UTF8',\n",
       " 'Maori-Latin1',\n",
       " 'Mapudungun_Mapuzgun-Latin1',\n",
       " 'Mapudungun_Mapuzgun-UTF8',\n",
       " 'Marshallese-Latin1',\n",
       " 'Matses-Latin1',\n",
       " 'Mayan_Yucateco-Latin1',\n",
       " 'Mazahua_Jnatrjo-UTF8',\n",
       " 'Mazateco-Latin1',\n",
       " 'Mende-UTF8',\n",
       " 'Mikmaq_Micmac-Mikmaq-Latin1',\n",
       " 'Minangkabau-Latin1',\n",
       " 'Miskito_Miskito-Latin1',\n",
       " 'Mixteco-Latin1',\n",
       " 'Mongolian_Khalkha-Cyrillic',\n",
       " 'Mongolian_Khalkha-UTF8',\n",
       " 'Moore_More-UTF8',\n",
       " 'Nahuatl-Latin1',\n",
       " 'Ndebele-Latin1',\n",
       " 'Nepali-UTF8',\n",
       " 'Ngangela_Nyemba-Latin1',\n",
       " 'NigerianPidginEnglish-Latin1',\n",
       " 'Nomatsiguenga-Latin1',\n",
       " 'NorthernSotho_Pedi-Sepedi-Latin1',\n",
       " 'Norwegian-Latin1',\n",
       " 'Norwegian_Norsk-Bokmal-Latin1',\n",
       " 'Norwegian_Norsk-Nynorsk-Latin1',\n",
       " 'Nyanja_Chechewa-Latin1',\n",
       " 'Nyanja_Chinyanja-Latin1',\n",
       " 'Nzema-UTF8',\n",
       " 'OccitanAuvergnat-Latin1',\n",
       " 'OccitanLanguedocien-Latin1',\n",
       " 'Oromiffa_AfaanOromo-Latin1',\n",
       " 'Osetin_Ossetian-UTF8',\n",
       " 'Oshiwambo_Ndonga-Latin1',\n",
       " 'Otomi_Nahnu-Latin1',\n",
       " 'Paez-Latin1',\n",
       " 'Palauan-Latin1',\n",
       " 'Peuhl-UTF8',\n",
       " 'Picard-Latin1',\n",
       " 'Pipil-Latin1',\n",
       " 'Polish-Latin2',\n",
       " 'Polish_Polski-Latin2',\n",
       " 'Ponapean-Latin1',\n",
       " 'Portuguese_Portugues-Latin1',\n",
       " 'Pulaar-UTF8',\n",
       " 'Punjabi_Panjabi-UTF8',\n",
       " 'Purhepecha-UTF8',\n",
       " 'Qechi_Kekchi-Latin1',\n",
       " 'Quechua-Latin1',\n",
       " 'Quichua-Latin1',\n",
       " 'Rarotongan_MaoriCookIslands-Latin1',\n",
       " 'Rhaeto-Romance_Rumantsch-Latin1',\n",
       " 'Romani-Latin1',\n",
       " 'Romani-UTF8',\n",
       " 'Romanian-Latin2',\n",
       " 'Romanian_Romana-Latin2',\n",
       " 'Rukonzo_Konjo-Latin1',\n",
       " 'Rundi_Kirundi-Latin1',\n",
       " 'Runyankore-rukiga_Nkore-kiga-Latin1',\n",
       " 'Russian-Cyrillic',\n",
       " 'Russian-UTF8',\n",
       " 'Russian_Russky-Cyrillic',\n",
       " 'Russian_Russky-UTF8',\n",
       " 'Sami_Lappish-UTF8',\n",
       " 'Sammarinese-Latin1',\n",
       " 'Samoan-Latin1',\n",
       " 'Sango_Sangho-Latin1',\n",
       " 'Sanskrit-UTF8',\n",
       " 'Saraiki-UTF8',\n",
       " 'Sardinian-Latin1',\n",
       " 'ScottishGaelic_GaidhligAlbanach-Latin1',\n",
       " 'Seereer-UTF8',\n",
       " 'Serbian_Srpski-Cyrillic',\n",
       " 'Serbian_Srpski-Latin2',\n",
       " 'Serbian_Srpski-UTF8',\n",
       " 'Sharanahua-Latin1',\n",
       " 'Shipibo-Conibo-Latin1',\n",
       " 'Shona-Latin1',\n",
       " 'Sinhala-UTF8',\n",
       " 'Siswati-Latin1',\n",
       " 'Slovak-Latin2',\n",
       " 'Slovak_Slovencina-Latin2',\n",
       " 'Slovenian_Slovenscina-Latin2',\n",
       " 'SolomonsPidgin_Pijin-Latin1',\n",
       " 'Somali-Latin1',\n",
       " 'Soninke_Soninkanxaane-UTF8',\n",
       " 'Sorbian-Latin2',\n",
       " 'SouthernSotho_Sotho-Sesotho-Sutu-Sesutu-Latin1',\n",
       " 'Spanish-Latin1',\n",
       " 'Spanish_Espanol-Latin1',\n",
       " 'Sukuma-Latin1',\n",
       " 'Sundanese-Latin1',\n",
       " 'Sussu_Soussou-Sosso-Soso-Susu-UTF8',\n",
       " 'Swaheli-Latin1',\n",
       " 'Swahili_Kiswahili-Latin1',\n",
       " 'Swedish_Svenska-Latin1',\n",
       " 'Tahitian-UTF8',\n",
       " 'Tenek_Huasteco-Latin1',\n",
       " 'Tetum-Latin1',\n",
       " 'Themne_Temne-UTF8',\n",
       " 'Tiv-Latin1',\n",
       " 'Toba-UTF8',\n",
       " 'Tojol-abal-Latin1',\n",
       " 'TokPisin-Latin1',\n",
       " 'Tonga-Latin1',\n",
       " 'Tongan_Tonga-Latin1',\n",
       " 'Totonaco-Latin1',\n",
       " 'Trukese_Chuuk-Latin1',\n",
       " 'Turkish_Turkce-Turkish',\n",
       " 'Turkish_Turkce-UTF8',\n",
       " 'Tzeltal-Latin1',\n",
       " 'Tzotzil-Latin1',\n",
       " 'Uighur_Uyghur-Latin1',\n",
       " 'Uighur_Uyghur-UTF8',\n",
       " 'Ukrainian-Cyrillic',\n",
       " 'Ukrainian-UTF8',\n",
       " 'Umbundu-Latin1',\n",
       " 'Urarina-Latin1',\n",
       " 'Uzbek-Latin1',\n",
       " 'Vietnamese-ALRN-UTF8',\n",
       " 'Vietnamese-UTF8',\n",
       " 'Vlach-Latin1',\n",
       " 'Walloon_Wallon-Latin1',\n",
       " 'Wama-UTF8',\n",
       " 'Waray-Latin1',\n",
       " 'Wayuu-Latin1',\n",
       " 'Welsh_Cymraeg-Latin1',\n",
       " 'WesternSotho_Tswana-Setswana-Latin1',\n",
       " 'Wolof-Latin1',\n",
       " 'Xhosa-Latin1',\n",
       " 'Yagua-Latin1',\n",
       " 'Yao-Latin1',\n",
       " 'Yapese-Latin1',\n",
       " 'Yoruba-UTF8',\n",
       " 'Zapoteco-Latin1',\n",
       " 'Zapoteco-SanLucasQuiavini-Latin1',\n",
       " 'Zhuang-Latin1',\n",
       " 'Zulu-Latin1']"
      ]
     },
     "execution_count": 72,
     "metadata": {},
     "output_type": "execute_result"
    }
   ],
   "source": [
    "nltk.corpus.udhr.fileids()"
   ]
  },
  {
   "cell_type": "code",
   "execution_count": 74,
   "metadata": {},
   "outputs": [
    {
     "data": {
      "text/plain": [
       "['GIZA', 'ESKUBIDEEN', 'ALDARRIKAPEN', 'UNIBERTSALA', ...]"
      ]
     },
     "execution_count": 74,
     "metadata": {},
     "output_type": "execute_result"
    }
   ],
   "source": [
    "nltk.corpus.udhr.words(\"Basque_Euskara-Latin1\")"
   ]
  },
  {
   "cell_type": "code",
   "execution_count": 75,
   "metadata": {},
   "outputs": [
    {
     "data": {
      "text/plain": [
       "['GIZA',\n",
       " 'ESKUBIDEEN',\n",
       " 'ALDARRIKAPEN',\n",
       " 'UNIBERTSALA',\n",
       " 'HITZAURREA',\n",
       " 'Kontuan',\n",
       " 'izanik',\n",
       " 'munduko',\n",
       " 'askatasuna',\n",
       " ',',\n",
       " 'justizia',\n",
       " 'eta',\n",
       " 'bakea',\n",
       " 'giza',\n",
       " 'familiako',\n",
       " 'kide',\n",
       " 'guztien',\n",
       " 'berezko',\n",
       " 'duintasunean',\n",
       " 'eta',\n",
       " 'eskubide',\n",
       " 'berdin',\n",
       " 'eta',\n",
       " 'ukaezinetan',\n",
       " 'oinarritzen',\n",
       " 'direla',\n",
       " ';',\n",
       " 'Kontuan',\n",
       " 'izanik',\n",
       " 'giza']"
      ]
     },
     "execution_count": 75,
     "metadata": {},
     "output_type": "execute_result"
    }
   ],
   "source": [
    "nltk.corpus.udhr.words(\"Basque_Euskara-Latin1\")[:30]"
   ]
  },
  {
   "cell_type": "code",
   "execution_count": 80,
   "metadata": {},
   "outputs": [],
   "source": [
    "from nltk.corpus import udhr"
   ]
  },
  {
   "cell_type": "code",
   "execution_count": 84,
   "metadata": {},
   "outputs": [],
   "source": [
    "languages = [\"Chickasaw\", \"English\", \"German_Deutsch\",\"Greenlandic_Inuktikut\", \"Hungarian_Magyar\", \"Ibibio_Efik\"]"
   ]
  },
  {
   "cell_type": "code",
   "execution_count": 85,
   "metadata": {},
   "outputs": [],
   "source": [
    "cfd = nltk.ConditionalFreqDist(\n",
    "    (lang, len(word))\n",
    "    for lang in languages\n",
    "    for word in udhr.words(lang + \"-Latin1\"))\n"
   ]
  },
  {
   "cell_type": "code",
   "execution_count": 87,
   "metadata": {},
   "outputs": [
    {
     "data": {
      "image/png": "[encoded data removed]",
      "text/plain": [
       "<Figure size 640x480 with 1 Axes>"
      ]
     },
     "metadata": {},
     "output_type": "display_data"
    },
    {
     "data": {
      "text/plain": [
       "<Axes: xlabel='Samples', ylabel='Counts'>"
      ]
     },
     "execution_count": 87,
     "metadata": {},
     "output_type": "execute_result"
    }
   ],
   "source": [
    "cfd.plot(cumulative = False)"
   ]
  },
  {
   "cell_type": "code",
   "execution_count": null,
   "metadata": {},
   "outputs": [],
   "source": []
  },
  {
   "cell_type": "code",
   "execution_count": 88,
   "metadata": {},
   "outputs": [
    {
     "data": {
      "image/png": "[encoded data removed]",
      "text/plain": [
       "<Figure size 640x480 with 1 Axes>"
      ]
     },
     "metadata": {},
     "output_type": "display_data"
    },
    {
     "data": {
      "text/plain": [
       "<Axes: xlabel='Samples', ylabel='Cumulative Counts'>"
      ]
     },
     "execution_count": 88,
     "metadata": {},
     "output_type": "execute_result"
    }
   ],
   "source": [
    "cfd.plot(cumulative=True)"
   ]
  },
  {
   "cell_type": "code",
   "execution_count": 89,
   "metadata": {},
   "outputs": [],
   "source": [
    "from nltk.corpus import PlaintextCorpusReader"
   ]
  },
  {
   "cell_type": "code",
   "execution_count": 93,
   "metadata": {},
   "outputs": [],
   "source": [
    "text = nltk.corpus.genesis.words(\"english-kjv.txt\")"
   ]
  },
  {
   "cell_type": "code",
   "execution_count": 94,
   "metadata": {},
   "outputs": [],
   "source": [
    "bigrams = nltk.bigrams(text)"
   ]
  },
  {
   "cell_type": "code",
   "execution_count": 95,
   "metadata": {},
   "outputs": [],
   "source": [
    "cfd = nltk.ConditionalFreqDist(bigrams)"
   ]
  },
  {
   "cell_type": "code",
   "execution_count": 96,
   "metadata": {},
   "outputs": [
    {
     "data": {
      "text/plain": [
       "FreqDist({'creature': 7, 'thing': 4, 'substance': 2, 'soul': 1, '.': 1, ',': 1})"
      ]
     },
     "execution_count": 96,
     "metadata": {},
     "output_type": "execute_result"
    }
   ],
   "source": [
    "cfd[\"living\"]"
   ]
  },
  {
   "cell_type": "code",
   "execution_count": 97,
   "metadata": {},
   "outputs": [],
   "source": [
    "def generate_model(cfdlist, word, num = 15):\n",
    "    \n",
    "    for i in range(num):\n",
    "        print(word, end = \" \")\n",
    "        word = cfdlist[word].max()"
   ]
  },
  {
   "cell_type": "code",
   "execution_count": 98,
   "metadata": {},
   "outputs": [
    {
     "name": "stdout",
     "output_type": "stream",
     "text": [
      "living creature that he said , and the land of the land of the land "
     ]
    }
   ],
   "source": [
    "generate_model(cfd, \"living\")"
   ]
  },
  {
   "cell_type": "code",
   "execution_count": 99,
   "metadata": {},
   "outputs": [
    {
     "data": {
      "text/plain": [
       "FreqDist({'land': 156, 'LORD': 154, 'earth': 105, 'sons': 69, 'name': 42, 'field': 39, 'men': 36, 'man': 34, 'waters': 30, 'children': 30, ...})"
      ]
     },
     "execution_count": 99,
     "metadata": {},
     "output_type": "execute_result"
    }
   ],
   "source": [
    "cfd[\"the\"]"
   ]
  },
  {
   "cell_type": "code",
   "execution_count": 100,
   "metadata": {},
   "outputs": [
    {
     "data": {
      "text/plain": [
       "FreqDist({'the': 372, 'his': 74, 'my': 52, 'Egypt': 46, 'Canaan': 38, 'all': 36, 'thy': 25, 'it': 21, 'a': 18, 'Jacob': 17, ...})"
      ]
     },
     "execution_count": 100,
     "metadata": {},
     "output_type": "execute_result"
    }
   ],
   "source": [
    "cfd[\"of\"]"
   ]
  },
  {
   "cell_type": "code",
   "execution_count": 101,
   "metadata": {},
   "outputs": [
    {
     "name": "stdout",
     "output_type": "stream",
     "text": [
      "the land of the land of the land of the land of the land of the land of the land of the land of the "
     ]
    }
   ],
   "source": [
    "generate_model(cfd, \"the\", 25)"
   ]
  },
  {
   "cell_type": "code",
   "execution_count": 103,
   "metadata": {},
   "outputs": [],
   "source": [
    "words_corpus = nltk.corpus.words.words()"
   ]
  },
  {
   "cell_type": "code",
   "execution_count": 104,
   "metadata": {},
   "outputs": [
    {
     "data": {
      "text/plain": [
       "['A',\n",
       " 'a',\n",
       " 'aa',\n",
       " 'aal',\n",
       " 'aalii',\n",
       " 'aam',\n",
       " 'Aani',\n",
       " 'aardvark',\n",
       " 'aardwolf',\n",
       " 'Aaron']"
      ]
     },
     "execution_count": 104,
     "metadata": {},
     "output_type": "execute_result"
    }
   ],
   "source": [
    "words_corpus[:10]"
   ]
  },
  {
   "cell_type": "code",
   "execution_count": 105,
   "metadata": {},
   "outputs": [
    {
     "data": {
      "text/plain": [
       "236736"
      ]
     },
     "execution_count": 105,
     "metadata": {},
     "output_type": "execute_result"
    }
   ],
   "source": [
    "len(words_corpus)"
   ]
  },
  {
   "cell_type": "code",
   "execution_count": 107,
   "metadata": {},
   "outputs": [],
   "source": [
    "def unusual_words(text):\n",
    "    text_vocab = set(w.lower() for w in text if w.isalpha())\n",
    "    english_vocab = set(w.lower() for w in nltk.corpus.words.words())\n",
    "    unusual = text_vocab - english_vocab\n",
    "    return sorted(unusual)\n",
    "    "
   ]
  },
  {
   "cell_type": "code",
   "execution_count": 108,
   "metadata": {},
   "outputs": [
    {
     "data": {
      "text/plain": [
       "['abbots',\n",
       " 'abdy',\n",
       " 'abhorred',\n",
       " 'abilities',\n",
       " 'absences',\n",
       " 'absented',\n",
       " 'absenting',\n",
       " 'abstained',\n",
       " 'absurdities',\n",
       " 'abused']"
      ]
     },
     "execution_count": 108,
     "metadata": {},
     "output_type": "execute_result"
    }
   ],
   "source": [
    "unusual_words(nltk.corpus.gutenberg.words(\"austen-emma.txt\"))[:10]"
   ]
  },
  {
   "cell_type": "code",
   "execution_count": 112,
   "metadata": {},
   "outputs": [
    {
     "data": {
      "text/plain": [
       "['aaaaaaaaaaaaaaaaa',\n",
       " 'aaahhhh',\n",
       " 'abortions',\n",
       " 'abou',\n",
       " 'abourted',\n",
       " 'abs',\n",
       " 'ack',\n",
       " 'acros',\n",
       " 'actualy',\n",
       " 'adams']"
      ]
     },
     "execution_count": 112,
     "metadata": {},
     "output_type": "execute_result"
    }
   ],
   "source": [
    "unusual_words(nltk.corpus.nps_chat.words())[:10]"
   ]
  }
 ],
 "metadata": {
  "kernelspec": {
   "display_name": "Python 3",
   "language": "python",
   "name": "python3"
  },
  "language_info": {
   "codemirror_mode": {
    "name": "ipython",
    "version": 3
   },
   "file_extension": ".py",
   "mimetype": "text/x-python",
   "name": "python",
   "nbconvert_exporter": "python",
   "pygments_lexer": "ipython3",
   "version": "3.10.8"
  }
 },
 "nbformat": 4,
 "nbformat_minor": 2
}
